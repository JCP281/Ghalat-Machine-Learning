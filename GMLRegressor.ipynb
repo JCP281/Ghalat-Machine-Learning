{
 "cells": [
  {
   "cell_type": "markdown",
   "metadata": {},
   "source": [
    "# GML - Regressor"
   ]
  },
  {
   "cell_type": "markdown",
   "metadata": {},
   "source": [
    "Install it first"
   ]
  },
  {
   "cell_type": "code",
   "execution_count": 1,
   "metadata": {},
   "outputs": [
    {
     "name": "stdout",
     "output_type": "stream",
     "text": [
      "\u001b[33mWARNING: The directory '/home/muhammad/.cache/pip' or its parent directory is not owned or is not writable by the current user. The cache has been disabled. Check the permissions and owner of that directory. If executing pip with sudo, you may want sudo's -H flag.\u001b[0m\n",
      "Collecting GML\n",
      "  Downloading GML-0.0.3-py3-none-any.whl (7.4 kB)\n",
      "Requirement already satisfied: lightgbm in /usr/local/lib/python3.6/dist-packages (from GML) (2.3.1)\n",
      "Requirement already satisfied: scikit-learn in /home/muhammad/.local/lib/python3.6/site-packages (from GML) (0.22.1)\n",
      "Requirement already satisfied: Keras in /usr/local/lib/python3.6/dist-packages (from GML) (2.3.1)\n",
      "Requirement already satisfied: catboost in /usr/local/lib/python3.6/dist-packages (from GML) (0.20.2)\n",
      "Requirement already satisfied: xgboost in /usr/local/lib/python3.6/dist-packages (from GML) (0.90)\n",
      "Requirement already satisfied: scipy in /home/muhammad/.local/lib/python3.6/site-packages (from lightgbm->GML) (1.4.1)\n",
      "Requirement already satisfied: numpy in /home/muhammad/.local/lib/python3.6/site-packages (from lightgbm->GML) (1.18.1)\n",
      "Requirement already satisfied: joblib>=0.11 in /home/muhammad/.local/lib/python3.6/site-packages (from scikit-learn->GML) (0.14.1)\n",
      "Requirement already satisfied: six>=1.9.0 in /home/muhammad/.local/lib/python3.6/site-packages (from Keras->GML) (1.14.0)\n",
      "Requirement already satisfied: keras-preprocessing>=1.0.5 in /usr/local/lib/python3.6/dist-packages (from Keras->GML) (1.1.0)\n",
      "Requirement already satisfied: keras-applications>=1.0.6 in /usr/local/lib/python3.6/dist-packages (from Keras->GML) (1.0.8)\n",
      "Requirement already satisfied: h5py in /usr/local/lib/python3.6/dist-packages (from Keras->GML) (2.10.0)\n",
      "Requirement already satisfied: pyyaml in /usr/lib/python3/dist-packages (from Keras->GML) (3.12)\n",
      "Requirement already satisfied: pandas>=0.24.0 in /usr/local/lib/python3.6/dist-packages (from catboost->GML) (1.0.1)\n",
      "Requirement already satisfied: matplotlib in /home/muhammad/.local/lib/python3.6/site-packages (from catboost->GML) (3.1.2)\n",
      "Requirement already satisfied: plotly in /usr/local/lib/python3.6/dist-packages (from catboost->GML) (4.5.0)\n",
      "Requirement already satisfied: graphviz in /usr/local/lib/python3.6/dist-packages (from catboost->GML) (0.13.2)\n",
      "Requirement already satisfied: pytz>=2017.2 in /home/muhammad/.local/lib/python3.6/site-packages (from pandas>=0.24.0->catboost->GML) (2019.3)\n",
      "Requirement already satisfied: python-dateutil>=2.6.1 in /home/muhammad/.local/lib/python3.6/site-packages (from pandas>=0.24.0->catboost->GML) (2.8.1)\n",
      "Requirement already satisfied: cycler>=0.10 in /home/muhammad/.local/lib/python3.6/site-packages (from matplotlib->catboost->GML) (0.10.0)\n",
      "Requirement already satisfied: kiwisolver>=1.0.1 in /home/muhammad/.local/lib/python3.6/site-packages (from matplotlib->catboost->GML) (1.1.0)\n",
      "Requirement already satisfied: pyparsing!=2.0.4,!=2.1.2,!=2.1.6,>=2.0.1 in /home/muhammad/.local/lib/python3.6/site-packages (from matplotlib->catboost->GML) (2.4.6)\n",
      "Requirement already satisfied: retrying>=1.3.3 in /usr/local/lib/python3.6/dist-packages (from plotly->catboost->GML) (1.3.3)\n",
      "Requirement already satisfied: setuptools in /home/muhammad/.local/lib/python3.6/site-packages (from kiwisolver>=1.0.1->matplotlib->catboost->GML) (45.2.0)\n",
      "Installing collected packages: GML\n",
      "Successfully installed GML-0.0.3\n"
     ]
    }
   ],
   "source": [
    "!pip install GML"
   ]
  },
  {
   "cell_type": "markdown",
   "metadata": {},
   "source": [
    "Loading Regression dataset from sklearn"
   ]
  },
  {
   "cell_type": "code",
   "execution_count": 2,
   "metadata": {},
   "outputs": [],
   "source": [
    "from sklearn.datasets import load_boston"
   ]
  },
  {
   "cell_type": "markdown",
   "metadata": {},
   "source": [
    "Importing GML"
   ]
  },
  {
   "cell_type": "code",
   "execution_count": 3,
   "metadata": {},
   "outputs": [
    {
     "name": "stderr",
     "output_type": "stream",
     "text": [
      "Using TensorFlow backend.\n"
     ]
    }
   ],
   "source": [
    "from GML.Ghalat_Machine_Learning import Ghalat_Machine_Learning"
   ]
  },
  {
   "cell_type": "markdown",
   "metadata": {},
   "source": [
    "Making object with 100 estimators"
   ]
  },
  {
   "cell_type": "markdown",
   "metadata": {},
   "source": [
    "Also importing another model from sklearn to make it compete with GML's models"
   ]
  },
  {
   "cell_type": "code",
   "execution_count": 4,
   "metadata": {},
   "outputs": [],
   "source": [
    "from sklearn.neural_network import MLPRegressor"
   ]
  },
  {
   "cell_type": "code",
   "execution_count": 5,
   "metadata": {},
   "outputs": [
    {
     "name": "stdout",
     "output_type": "stream",
     "text": [
      "Welcome to Ghalat Machine Learning!\n",
      "\n",
      "All models are set to train\n",
      "         Have a tea and leave everything on us ;-)\n"
     ]
    }
   ],
   "source": [
    "model = Ghalat_Machine_Learning(n_estimators=100)"
   ]
  },
  {
   "cell_type": "markdown",
   "metadata": {},
   "source": [
    "storing data in X,y"
   ]
  },
  {
   "cell_type": "code",
   "execution_count": 6,
   "metadata": {},
   "outputs": [],
   "source": [
    "X,y = load_boston(return_X_y=True)"
   ]
  },
  {
   "cell_type": "markdown",
   "metadata": {},
   "source": [
    "Passing the data to classifier"
   ]
  },
  {
   "cell_type": "code",
   "execution_count": 7,
   "metadata": {
    "scrolled": true
   },
   "outputs": [
    {
     "name": "stdout",
     "output_type": "stream",
     "text": [
      "Model  LassoLarsCV  got validation loss of  27.746952895691187\n",
      "Model  LinearRegression  got validation loss of  27.991470866939967\n",
      "Model  SVR  got validation loss of  29.072856886309356\n",
      "Model  DecisionTreeRegressor  got validation loss of  20.187697368421052\n",
      "Model  KNeighborsRegressor  got validation loss of  20.952302631578945\n",
      "Model  SGDRegressor  got validation loss of  27.91846173197558\n",
      "Model  RandomForestRegressor  got validation loss of  10.585535513157893\n",
      "Model  AdaBoostRegressor  got validation loss of  12.562105263157894\n",
      "Model  ExtraTreesRegressor  got validation loss of  9.621608223684204\n",
      "[18:18:09] WARNING: /workspace/src/objective/regression_obj.cu:152: reg:linear is now deprecated in favor of reg:squarederror.\n",
      "Model  XGBRegressor  got validation loss of  10.16000731024569\n",
      "Model  LGBMRegressor  got validation loss of  11.943233357707484\n",
      "Model  CatBoostRegressor  got validation loss of  12.044751990301075\n",
      "Model  GradientBoostingRegressor  got validation loss of  9.6223810035084\n",
      "Model  NaiveBayesianRidge  got validation loss of  27.681226840142063\n",
      "Model  MLPRegressor  got validation accuracy of  24.98092249313875\n",
      "\n",
      " **************************************** \n",
      "Training Neural Network\n",
      " ****************************************\n",
      "WARNING:tensorflow:From /usr/local/lib/python3.6/dist-packages/keras/backend/tensorflow_backend.py:422: The name tf.global_variables is deprecated. Please use tf.compat.v1.global_variables instead.\n",
      "\n",
      "Neural Network got validation loss of  16.283631951303203\n",
      "Model: \"sequential_1\"\n",
      "_________________________________________________________________\n",
      "Layer (type)                 Output Shape              Param #   \n",
      "=================================================================\n",
      "dense_1 (Dense)              (None, 256)               3584      \n",
      "_________________________________________________________________\n",
      "dropout_1 (Dropout)          (None, 256)               0         \n",
      "_________________________________________________________________\n",
      "dense_2 (Dense)              (None, 128)               32896     \n",
      "_________________________________________________________________\n",
      "dropout_2 (Dropout)          (None, 128)               0         \n",
      "_________________________________________________________________\n",
      "dense_3 (Dense)              (None, 64)                8256      \n",
      "_________________________________________________________________\n",
      "dense_4 (Dense)              (None, 1)                 65        \n",
      "=================================================================\n",
      "Total params: 44,801\n",
      "Trainable params: 44,801\n",
      "Non-trainable params: 0\n",
      "_________________________________________________________________\n",
      "None\n",
      "                       Model  Validation_Loss\n",
      "0        ExtraTreesRegressor         9.621608\n",
      "0  GradientBoostingRegressor         9.622381\n",
      "0               XGBRegressor        10.160007\n",
      "0      RandomForestRegressor        10.585536\n",
      "0              LGBMRegressor        11.943233\n",
      "0          CatBoostRegressor        12.044752\n",
      "0          AdaBoostRegressor        12.562105\n",
      "0             Neural Network        16.283632\n",
      "0      DecisionTreeRegressor        20.187697\n",
      "0        KNeighborsRegressor        20.952303\n",
      "0               MLPRegressor        24.980922\n",
      "0         NaiveBayesianRidge        27.681227\n",
      "0                LassoLarsCV        27.746953\n",
      "0               SGDRegressor        27.918462\n",
      "0           LinearRegression        27.991471\n",
      "0                        SVR        29.072857\n",
      "\n",
      "\n",
      " **************************************** \n",
      "Suggested Models for Stacking\n",
      " **************************************** \n",
      " 0          ExtraTreesRegressor\n",
      "0    GradientBoostingRegressor\n",
      "0                 XGBRegressor\n",
      "0        RandomForestRegressor\n",
      "0                LGBMRegressor\n",
      "Name: Model, dtype: object\n",
      "**************************************** \n",
      " PLEASE NOTE: these results are calculated using  <function mean_squared_error at 0x7fb1c6ac6bf8>\n"
     ]
    }
   ],
   "source": [
    "best_model = model.GMLRegressor(X,y,neural_net='Yes',epochs=50,\n",
    "                                 verbose=0,models=[MLPRegressor()])"
   ]
  },
  {
   "cell_type": "code",
   "execution_count": 8,
   "metadata": {},
   "outputs": [
    {
     "data": {
      "text/plain": [
       "ExtraTreesRegressor(bootstrap=False, ccp_alpha=0.0, criterion='mse',\n",
       "                    max_depth=None, max_features='auto', max_leaf_nodes=None,\n",
       "                    max_samples=None, min_impurity_decrease=0.0,\n",
       "                    min_impurity_split=None, min_samples_leaf=1,\n",
       "                    min_samples_split=2, min_weight_fraction_leaf=0.0,\n",
       "                    n_estimators=100, n_jobs=None, oob_score=False,\n",
       "                    random_state=None, verbose=0, warm_start=False)"
      ]
     },
     "execution_count": 8,
     "metadata": {},
     "output_type": "execute_result"
    }
   ],
   "source": [
    "best_model"
   ]
  },
  {
   "cell_type": "markdown",
   "metadata": {},
   "source": [
    "So from above results, we can see \n",
    "\n",
    "ExtraTreesRegressor CV performed really well! and our custom model, MLPRegressor ended up 11th.\n",
    "\n",
    "Ranks are based upon validation loss"
   ]
  },
  {
   "cell_type": "markdown",
   "metadata": {},
   "source": [
    "See how easy it was!"
   ]
  }
 ],
 "metadata": {
  "kernelspec": {
   "display_name": "Python 3",
   "language": "python",
   "name": "python3"
  },
  "language_info": {
   "codemirror_mode": {
    "name": "ipython",
    "version": 3
   },
   "file_extension": ".py",
   "mimetype": "text/x-python",
   "name": "python",
   "nbconvert_exporter": "python",
   "pygments_lexer": "ipython3",
   "version": "3.6.9"
  }
 },
 "nbformat": 4,
 "nbformat_minor": 4
}
