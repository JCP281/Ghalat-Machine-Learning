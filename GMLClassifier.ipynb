{
 "cells": [
  {
   "cell_type": "markdown",
   "metadata": {},
   "source": [
    "# GML - Classifier"
   ]
  },
  {
   "cell_type": "markdown",
   "metadata": {},
   "source": [
    "Install it first"
   ]
  },
  {
   "cell_type": "code",
   "execution_count": 1,
   "metadata": {},
   "outputs": [
    {
     "name": "stdout",
     "output_type": "stream",
     "text": [
      "\u001b[33mWARNING: The directory '/home/muhammad/.cache/pip' or its parent directory is not owned or is not writable by the current user. The cache has been disabled. Check the permissions and owner of that directory. If executing pip with sudo, you may want sudo's -H flag.\u001b[0m\n",
      "Collecting GML\n",
      "  Downloading GML-0.0.3-py3-none-any.whl (7.4 kB)\n",
      "Requirement already satisfied: Keras in /usr/local/lib/python3.6/dist-packages (from GML) (2.3.1)\n",
      "Requirement already satisfied: catboost in /usr/local/lib/python3.6/dist-packages (from GML) (0.20.2)\n",
      "Requirement already satisfied: xgboost in /usr/local/lib/python3.6/dist-packages (from GML) (0.90)\n",
      "Requirement already satisfied: lightgbm in /usr/local/lib/python3.6/dist-packages (from GML) (2.3.1)\n",
      "Requirement already satisfied: scikit-learn in /home/muhammad/.local/lib/python3.6/site-packages (from GML) (0.22.1)\n",
      "Requirement already satisfied: pyyaml in /usr/lib/python3/dist-packages (from Keras->GML) (3.12)\n",
      "Requirement already satisfied: keras-applications>=1.0.6 in /usr/local/lib/python3.6/dist-packages (from Keras->GML) (1.0.8)\n",
      "Requirement already satisfied: keras-preprocessing>=1.0.5 in /usr/local/lib/python3.6/dist-packages (from Keras->GML) (1.1.0)\n",
      "Requirement already satisfied: scipy>=0.14 in /home/muhammad/.local/lib/python3.6/site-packages (from Keras->GML) (1.4.1)\n",
      "Requirement already satisfied: numpy>=1.9.1 in /home/muhammad/.local/lib/python3.6/site-packages (from Keras->GML) (1.18.1)\n",
      "Requirement already satisfied: h5py in /usr/local/lib/python3.6/dist-packages (from Keras->GML) (2.10.0)\n",
      "Requirement already satisfied: six>=1.9.0 in /home/muhammad/.local/lib/python3.6/site-packages (from Keras->GML) (1.14.0)\n",
      "Requirement already satisfied: matplotlib in /home/muhammad/.local/lib/python3.6/site-packages (from catboost->GML) (3.1.2)\n",
      "Requirement already satisfied: plotly in /usr/local/lib/python3.6/dist-packages (from catboost->GML) (4.5.0)\n",
      "Requirement already satisfied: pandas>=0.24.0 in /usr/local/lib/python3.6/dist-packages (from catboost->GML) (1.0.1)\n",
      "Requirement already satisfied: graphviz in /usr/local/lib/python3.6/dist-packages (from catboost->GML) (0.13.2)\n",
      "Requirement already satisfied: joblib>=0.11 in /home/muhammad/.local/lib/python3.6/site-packages (from scikit-learn->GML) (0.14.1)\n",
      "Requirement already satisfied: cycler>=0.10 in /home/muhammad/.local/lib/python3.6/site-packages (from matplotlib->catboost->GML) (0.10.0)\n",
      "Requirement already satisfied: kiwisolver>=1.0.1 in /home/muhammad/.local/lib/python3.6/site-packages (from matplotlib->catboost->GML) (1.1.0)\n",
      "Requirement already satisfied: python-dateutil>=2.1 in /home/muhammad/.local/lib/python3.6/site-packages (from matplotlib->catboost->GML) (2.8.1)\n",
      "Requirement already satisfied: pyparsing!=2.0.4,!=2.1.2,!=2.1.6,>=2.0.1 in /home/muhammad/.local/lib/python3.6/site-packages (from matplotlib->catboost->GML) (2.4.6)\n",
      "Requirement already satisfied: retrying>=1.3.3 in /usr/local/lib/python3.6/dist-packages (from plotly->catboost->GML) (1.3.3)\n",
      "Requirement already satisfied: pytz>=2017.2 in /home/muhammad/.local/lib/python3.6/site-packages (from pandas>=0.24.0->catboost->GML) (2019.3)\n",
      "Requirement already satisfied: setuptools in /home/muhammad/.local/lib/python3.6/site-packages (from kiwisolver>=1.0.1->matplotlib->catboost->GML) (45.2.0)\n",
      "Installing collected packages: GML\n",
      "Successfully installed GML-0.0.3\n"
     ]
    }
   ],
   "source": [
    "!pip install GML"
   ]
  },
  {
   "cell_type": "markdown",
   "metadata": {},
   "source": [
    "Loading Multi Class Classification dataset from sklearn"
   ]
  },
  {
   "cell_type": "code",
   "execution_count": 2,
   "metadata": {},
   "outputs": [],
   "source": [
    "from sklearn.datasets import load_iris"
   ]
  },
  {
   "cell_type": "markdown",
   "metadata": {},
   "source": [
    "Importing GML"
   ]
  },
  {
   "cell_type": "code",
   "execution_count": 3,
   "metadata": {},
   "outputs": [
    {
     "name": "stderr",
     "output_type": "stream",
     "text": [
      "Using TensorFlow backend.\n"
     ]
    }
   ],
   "source": [
    "from GML.Ghalat_Machine_Learning import Ghalat_Machine_Learning"
   ]
  },
  {
   "cell_type": "markdown",
   "metadata": {},
   "source": [
    "Making object with 100 estimators"
   ]
  },
  {
   "cell_type": "markdown",
   "metadata": {},
   "source": [
    "Also importing another model from sklearn to make it compete with GML's models"
   ]
  },
  {
   "cell_type": "code",
   "execution_count": 4,
   "metadata": {},
   "outputs": [],
   "source": [
    "from sklearn.neural_network import MLPClassifier"
   ]
  },
  {
   "cell_type": "code",
   "execution_count": 5,
   "metadata": {},
   "outputs": [
    {
     "name": "stdout",
     "output_type": "stream",
     "text": [
      "Welcome to Ghalat Machine Learning!\n",
      "\n",
      "All models are set to train\n",
      "         Have a tea and leave everything on us ;-)\n"
     ]
    }
   ],
   "source": [
    "model = Ghalat_Machine_Learning(n_estimators=100)"
   ]
  },
  {
   "cell_type": "markdown",
   "metadata": {},
   "source": [
    "storing data in X,y"
   ]
  },
  {
   "cell_type": "code",
   "execution_count": 6,
   "metadata": {},
   "outputs": [],
   "source": [
    "X,y = load_iris(return_X_y=True)"
   ]
  },
  {
   "cell_type": "markdown",
   "metadata": {},
   "source": [
    "Passing the data to classifier"
   ]
  },
  {
   "cell_type": "code",
   "execution_count": 7,
   "metadata": {
    "scrolled": true
   },
   "outputs": [
    {
     "name": "stdout",
     "output_type": "stream",
     "text": [
      "Model  LogisticRegressionCV  got validation accuracy of  0.9333333333333333\n",
      "Model  LogisticRegression  got validation accuracy of  0.9111111111111111\n",
      "Model  SVC  got validation accuracy of  0.9111111111111111\n",
      "Model  DecisionTreeClassifier  got validation accuracy of  0.9333333333333333\n",
      "Model  KNeighborsClassifier  got validation accuracy of  0.9333333333333333\n",
      "Model  SGDClassifier  got validation accuracy of  0.8888888888888888\n",
      "Model  RandomForestClassifier  got validation accuracy of  0.9333333333333333\n",
      "Model  AdaBoostClassifier  got validation accuracy of  0.9333333333333333\n",
      "Model  ExtraTreesClassifier  got validation accuracy of  0.9333333333333333\n",
      "Model  XGBClassifier  got validation accuracy of  0.9555555555555556\n",
      "Model  LGBMClassifier  got validation accuracy of  0.9333333333333333\n",
      "Model  CatBoostClassifier  got validation accuracy of  0.9333333333333333\n",
      "Model  GradientBoostingClassifier  got validation accuracy of  0.9555555555555556\n",
      "Model  NaiveBayesGaussian  got validation accuracy of  0.9555555555555556\n",
      "Model  MLPClassifier  got validation accuracy of  0.8666666666666667\n",
      "\n",
      " **************************************** \n",
      "Training Neural Network\n",
      " ****************************************\n",
      "WARNING:tensorflow:From /usr/local/lib/python3.6/dist-packages/tensorflow/python/ops/math_grad.py:1250: add_dispatch_support.<locals>.wrapper (from tensorflow.python.ops.array_ops) is deprecated and will be removed in a future version.\n",
      "Instructions for updating:\n",
      "Use tf.where in 2.0, which has the same broadcast rule as np.where\n",
      "WARNING:tensorflow:From /usr/local/lib/python3.6/dist-packages/keras/backend/tensorflow_backend.py:422: The name tf.global_variables is deprecated. Please use tf.compat.v1.global_variables instead.\n",
      "\n",
      "Neural Network got validation accuracy of  0.9111111111111111\n",
      "Model: \"sequential_1\"\n",
      "_________________________________________________________________\n",
      "Layer (type)                 Output Shape              Param #   \n",
      "=================================================================\n",
      "dense_1 (Dense)              (None, 256)               1280      \n",
      "_________________________________________________________________\n",
      "dropout_1 (Dropout)          (None, 256)               0         \n",
      "_________________________________________________________________\n",
      "dense_2 (Dense)              (None, 128)               32896     \n",
      "_________________________________________________________________\n",
      "dropout_2 (Dropout)          (None, 128)               0         \n",
      "_________________________________________________________________\n",
      "dense_3 (Dense)              (None, 64)                8256      \n",
      "_________________________________________________________________\n",
      "dense_4 (Dense)              (None, 3)                 195       \n",
      "=================================================================\n",
      "Total params: 42,627\n",
      "Trainable params: 42,627\n",
      "Non-trainable params: 0\n",
      "_________________________________________________________________\n",
      "None\n",
      "                        Model  Val_Accuracy  CV on 5 folds\n",
      "0        LogisticRegressionCV      0.933333       0.973333\n",
      "0      RandomForestClassifier      0.933333       0.966667\n",
      "0                         SVC      0.911111       0.966667\n",
      "0          LogisticRegression      0.911111       0.960000\n",
      "0      DecisionTreeClassifier      0.933333       0.960000\n",
      "0        KNeighborsClassifier      0.933333       0.960000\n",
      "0          AdaBoostClassifier      0.933333       0.953333\n",
      "0               XGBClassifier      0.955556       0.953333\n",
      "0          CatBoostClassifier      0.933333       0.953333\n",
      "0  GradientBoostingClassifier      0.955556       0.953333\n",
      "0          NaiveBayesGaussian      0.955556       0.953333\n",
      "0        ExtraTreesClassifier      0.933333       0.946667\n",
      "0              LGBMClassifier      0.933333       0.940000\n",
      "0               MLPClassifier      0.866667       0.940000\n",
      "0               SGDClassifier      0.888889       0.933333\n",
      "0              Neural Network      0.911111       0.911111\n",
      "\n",
      "\n",
      " **************************************** \n",
      "Suggested Models for Stacking\n",
      " **************************************** \n",
      " 0      LogisticRegressionCV\n",
      "0    RandomForestClassifier\n",
      "0                       SVC\n",
      "0        LogisticRegression\n",
      "0    DecisionTreeClassifier\n",
      "Name: Model, dtype: object\n",
      "**************************************** \n",
      " PLEASE NOTE: these results are calculated using  <function accuracy_score at 0x7f845b6a3400>\n"
     ]
    }
   ],
   "source": [
    "best_model = model.GMLClassifier(X,y,neural_net='Yes',epochs=50,\n",
    "                                 verbose=0,models=[MLPClassifier()])"
   ]
  },
  {
   "cell_type": "code",
   "execution_count": 8,
   "metadata": {},
   "outputs": [
    {
     "data": {
      "text/plain": [
       "LogisticRegressionCV(Cs=10, class_weight=None, cv=None, dual=False,\n",
       "                     fit_intercept=True, intercept_scaling=1.0, l1_ratios=None,\n",
       "                     max_iter=1000, multi_class='auto', n_jobs=None,\n",
       "                     penalty='l2', random_state=None, refit=True, scoring=None,\n",
       "                     solver='lbfgs', tol=0.0001, verbose=0)"
      ]
     },
     "execution_count": 8,
     "metadata": {},
     "output_type": "execute_result"
    }
   ],
   "source": [
    "best_model"
   ]
  },
  {
   "cell_type": "markdown",
   "metadata": {},
   "source": [
    "So from above results, we can see \n",
    "\n",
    "Logistic Regression CV performed really well with 97% accuracy! and our custom model, MLPClassifier ended up 3rd last.\n",
    "\n",
    "Ranks are based upon folds accuracy"
   ]
  },
  {
   "cell_type": "markdown",
   "metadata": {},
   "source": [
    "See how easy it was!"
   ]
  }
 ],
 "metadata": {
  "kernelspec": {
   "display_name": "Python 3",
   "language": "python",
   "name": "python3"
  },
  "language_info": {
   "codemirror_mode": {
    "name": "ipython",
    "version": 3
   },
   "file_extension": ".py",
   "mimetype": "text/x-python",
   "name": "python",
   "nbconvert_exporter": "python",
   "pygments_lexer": "ipython3",
   "version": "3.6.9"
  }
 },
 "nbformat": 4,
 "nbformat_minor": 4
}
